{
 "cells": [
  {
   "cell_type": "code",
   "execution_count": 1,
   "metadata": {},
   "outputs": [
    {
     "name": "stdout",
     "output_type": "stream",
     "text": [
      "Using matplotlib backend: <object object at 0x0000025176D83590>\n"
     ]
    }
   ],
   "source": [
    "import numpy as np\n",
    "import matplotlib.pyplot as plt\n",
    "%matplotlib\n",
    "\n",
    "# Parameters\n",
    "noise = .2\n",
    "\n",
    "# Create our kernel types\n",
    "def rbf(data, data2, length_scale=1.0):\n",
    "    # Formula is k(x_i, x_j) = exp(-abs(x_i-x_j)^2/(2*l^2))\n",
    "    # l is length_scale and is a smoothness parameter. It's a metaparameter that needs tweaking generally\n",
    "    # This will return a matrix\n",
    "    return np.exp(-.5 * np.power(np.abs(data - data2.T), 2) / np.power(length_scale, 2))\n",
    "\n",
    "np.random.seed(42)\n",
    "X = np.sort(5 * np.random.rand(20, 1), axis=0)\n",
    "y = y = np.sin(X) + np.random.normal(0, noise, (X.shape)) # Add in a noise term to better simulate real-world data\n",
    "vec_pairs = np.hstack([X, y]) # our data matrix\n",
    "\n",
    "plt.scatter(X, np.sin(X), c='blue')\n",
    "plt.scatter(X, y, c='red')\n",
    "plt.title('Noisy and Noiseless Function Output')\n",
    "plt.xlabel('X')\n",
    "plt.ylabel('y')\n",
    "plt.show()"
   ]
  },
  {
   "cell_type": "code",
   "execution_count": 2,
   "metadata": {},
   "outputs": [],
   "source": [
    "# generate test points\n",
    "X_test = np.sort(5 * np.random.rand(50, 1), axis=0)"
   ]
  },
  {
   "cell_type": "code",
   "execution_count": 3,
   "metadata": {},
   "outputs": [],
   "source": [
    "kernel = rbf(X, X)\n",
    "K_star = rbf(X, X_test)\n",
    "inv_kernel = np.linalg.inv(kernel)\n",
    "mu = np.dot(K_star.T, np.dot(inv_kernel, y))\n",
    "cov_s = rbf(X_test, X_test) - np.dot(K_star.T, np.dot(inv_kernel, K_star))"
   ]
  },
  {
   "cell_type": "code",
   "execution_count": 5,
   "metadata": {},
   "outputs": [],
   "source": [
    "# Plot the results\n",
    "plt.figure(figsize=(8, 6))\n",
    "plt.scatter(X, y, color='b', label='Training Data')\n",
    "plt.title('Gaussian Process Regression')\n",
    "plt.xlabel('Input')\n",
    "plt.ylabel('Output')\n",
    "plt.legend()\n",
    "plt.show()\n"
   ]
  },
  {
   "cell_type": "code",
   "execution_count": 6,
   "metadata": {},
   "outputs": [
    {
     "data": {
      "text/plain": [
       "array([[0.02761059],\n",
       "       [0.22613644],\n",
       "       [0.31779175],\n",
       "       [0.37022326],\n",
       "       [0.37275322],\n",
       "       [0.44246251],\n",
       "       [0.5793453 ],\n",
       "       [0.59797123],\n",
       "       [0.70462112],\n",
       "       [0.92427228],\n",
       "       [0.97991431],\n",
       "       [0.99357841],\n",
       "       [1.35674516],\n",
       "       [1.40467255],\n",
       "       [1.55491161],\n",
       "       [1.55855538],\n",
       "       [1.62591661],\n",
       "       [1.62665165],\n",
       "       [1.65449012],\n",
       "       [1.78376663],\n",
       "       [1.79232864],\n",
       "       [1.94338645],\n",
       "       [2.36107463],\n",
       "       [2.46897798],\n",
       "       [2.60034011],\n",
       "       [2.71348042],\n",
       "       [2.7335514 ],\n",
       "       [2.80638599],\n",
       "       [2.98949989],\n",
       "       [3.11649063],\n",
       "       [3.18778736],\n",
       "       [3.53428672],\n",
       "       [3.56622394],\n",
       "       [3.64503584],\n",
       "       [3.64803089],\n",
       "       [3.80392524],\n",
       "       [3.8548359 ],\n",
       "       [3.85635173],\n",
       "       [3.86122385],\n",
       "       [3.87566412],\n",
       "       [4.0109849 ],\n",
       "       [4.07730714],\n",
       "       [4.14368755],\n",
       "       [4.31551713],\n",
       "       [4.43606371],\n",
       "       [4.47413675],\n",
       "       [4.60937118],\n",
       "       [4.69749471],\n",
       "       [4.84792314],\n",
       "       [4.93443468]])"
      ]
     },
     "execution_count": 6,
     "metadata": {},
     "output_type": "execute_result"
    }
   ],
   "source": [
    "X_test.sort()\n",
    "X_test"
   ]
  },
  {
   "cell_type": "code",
   "execution_count": 7,
   "metadata": {},
   "outputs": [
    {
     "data": {
      "text/plain": [
       "<matplotlib.collections.PathCollection at 0x2510bb3b410>"
      ]
     },
     "execution_count": 7,
     "metadata": {},
     "output_type": "execute_result"
    }
   ],
   "source": [
    "plt.scatter(X, y)\n",
    "plt.scatter(X_test, mu)\n",
    "plt.show()"
   ]
  }
 ],
 "metadata": {
  "kernelspec": {
   "display_name": "venvironment",
   "language": "python",
   "name": "python3"
  },
  "language_info": {
   "codemirror_mode": {
    "name": "ipython",
    "version": 3
   },
   "file_extension": ".py",
   "mimetype": "text/x-python",
   "name": "python",
   "nbconvert_exporter": "python",
   "pygments_lexer": "ipython3",
   "version": "3.11.1"
  }
 },
 "nbformat": 4,
 "nbformat_minor": 2
}
